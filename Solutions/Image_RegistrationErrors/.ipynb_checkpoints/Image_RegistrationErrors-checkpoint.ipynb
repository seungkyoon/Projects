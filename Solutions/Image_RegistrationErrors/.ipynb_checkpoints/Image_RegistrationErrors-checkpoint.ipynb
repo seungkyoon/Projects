{
 "cells": [
  {
   "cell_type": "markdown",
   "metadata": {},
   "source": [
    "<h1 align=\"center\"> Registration Errors: A Visualization</h1>\n",
    "\n",
    "This notebook is a demonstration of the three common registration errors: fiducial localization error (FLE), fiducial registration error (FRE), and target registration error (TRE). The goal is to clear up the misconception that FRE is a good approximation for TRE.\n",
    "\n",
    "First, some important definitions:\n",
    "\n",
    "**Fiducial Localization Error**: The error of the localization of the fiducials from the real locations in space\n",
    "\n",
    "**Fiducial Registration Error**: The error of the fiducial markers following registration\n",
    "\n",
    "**Target Registration Error**: The error of the target area/markers following registration"
   ]
  },
  {
   "cell_type": "code",
   "execution_count": 1,
   "metadata": {},
   "outputs": [
    {
     "ename": "ModuleNotFoundError",
     "evalue": "No module named 'gui'",
     "output_type": "error",
     "traceback": [
      "\u001b[0;31m---------------------------------------------------------------------------\u001b[0m",
      "\u001b[0;31mModuleNotFoundError\u001b[0m                       Traceback (most recent call last)",
      "\u001b[0;32m<ipython-input-1-c982126ba197>\u001b[0m in \u001b[0;36m<module>\u001b[0;34m()\u001b[0m\n\u001b[1;32m      1\u001b[0m \u001b[0;32mimport\u001b[0m \u001b[0mSimpleITK\u001b[0m \u001b[0;32mas\u001b[0m \u001b[0msitk\u001b[0m\u001b[0;34m\u001b[0m\u001b[0m\n\u001b[1;32m      2\u001b[0m \u001b[0mget_ipython\u001b[0m\u001b[0;34m(\u001b[0m\u001b[0;34m)\u001b[0m\u001b[0;34m.\u001b[0m\u001b[0mrun_line_magic\u001b[0m\u001b[0;34m(\u001b[0m\u001b[0;34m'matplotlib'\u001b[0m\u001b[0;34m,\u001b[0m \u001b[0;34m'nbagg'\u001b[0m\u001b[0;34m)\u001b[0m\u001b[0;34m\u001b[0m\u001b[0m\n\u001b[0;32m----> 3\u001b[0;31m \u001b[0;32mfrom\u001b[0m \u001b[0mgui\u001b[0m \u001b[0;32mimport\u001b[0m \u001b[0mPairedPointDataManipulation\u001b[0m\u001b[0;34m,\u001b[0m \u001b[0mdisplay_errors\u001b[0m\u001b[0;34m\u001b[0m\u001b[0m\n\u001b[0m\u001b[1;32m      4\u001b[0m \u001b[0;32mimport\u001b[0m \u001b[0mmatplotlib\u001b[0m\u001b[0;34m.\u001b[0m\u001b[0mpyplot\u001b[0m \u001b[0;32mas\u001b[0m \u001b[0mplt\u001b[0m\u001b[0;34m\u001b[0m\u001b[0m\n\u001b[1;32m      5\u001b[0m \u001b[0;32mfrom\u001b[0m \u001b[0mregistration_utilities\u001b[0m \u001b[0;32mimport\u001b[0m \u001b[0mregistration_errors\u001b[0m\u001b[0;34m\u001b[0m\u001b[0m\n",
      "\u001b[0;31mModuleNotFoundError\u001b[0m: No module named 'gui'"
     ]
    }
   ],
   "source": [
    "import SimpleITK as sitk\n",
    "%matplotlib nbagg\n",
    "from gui import PairedPointDataManipulation, display_errors\n",
    "import matplotlib.pyplot as plt\n",
    "from registration_utilities import registration_errors\n",
    "fixed_fiducials = [(48.62651209677419, 70.26515151515152), (51.8523185483871, 70.26515151515152), (54.594254032258064, 70.26515151515152), (57.49747983870968, 70.26515151515152), (61.36844758064517, 70.26515151515152), (64.91683467741936, 69.18290043290044), (67.98135080645162, 67.66774891774892), (72.01360887096774, 65.28679653679654), (75.078125, 62.90584415584416), (77.33618951612904, 58.79329004329005), (78.62651209677419, 56.62878787878788), (79.11038306451613, 52.9491341991342), (78.94909274193549, 51.433982683982684), (76.8523185483871, 48.40367965367965), (75.4007056451613, 46.455627705627705), (73.94909274193549, 45.15692640692641), (67.49747983870968, 41.044372294372295), (63.78780241935485, 39.52922077922078), (57.981350806451616, 38.01406926406926), (52.174899193548384, 37.1482683982684), (45.72328629032258, 36.71536796536797), (41.69102822580645, 36.71536796536797), (37.336189516129025, 36.93181818181818), (33.3039314516129, 38.663419913419915), (29.59425403225806, 43.425324675324674), (28.787802419354836, 44.94047619047619), (26.852318548387093, 49.26948051948052), (27.01360887096774, 55.11363636363637), (28.626512096774196, 59.226190476190474), (32.174899193548384, 62.04004329004329), (36.20715725806451, 64.20454545454547), (40.078125, 65.9361471861472), (44.91683467741936, 67.88419913419914)]\n",
    "fixed_targets = [(48.62651209677419, 55.33008658008658), (59.755544354838705, 54.2478354978355), (52.49747983870968, 48.40367965367965), (80.56199596774194, 17.234848484848484), (91.20715725806451, 22.646103896103895), (88.46522177419355, 10.741341991341995)]"
   ]
  },
  {
   "cell_type": "markdown",
   "metadata": {},
   "source": [
    "### Interacting with the GUI\n",
    "1. Change the mode and interact directly with the figure:\n",
    "    * Edit mode: Add fiducial markers with a left click and target markers with a right click\n",
    "        * Markers can only be added when images in both coordinate systems align\n",
    "    * Drag mode: Drag the moving image markers around the screen\n",
    "    * Rotate mode: Rotate the moving image around the centroid (marked by a bright blue dot)\n",
    "2. Click one of the following buttons:\n",
    "    * Clear: Removes all markers from the figure\n",
    "    * Reset: Resets all moving markers to the fixed marker positions\n",
    "    * Add Noise: Add noise to the fiducial markers\n",
    "    * Bias (FRE<TRE): Add bias to all fiducial markers\n",
    "    * Bias (FRE>TRE): Add bias to half of the fiducial markers and negative of bias to the other half\n",
    "    * Register: Click when all points are positioned to align two sets of markers based on fiducials \n",
    "\n",
    "The markers are colored as follows:\n",
    "* Light red: moving fiducials\n",
    "* Dark red: fixed fiducials\n",
    "* Light green: moving targets\n",
    "* Dark green: fixed fiducials"
   ]
  },
  {
   "cell_type": "code",
   "execution_count": null,
   "metadata": {},
   "outputs": [],
   "source": [
    "manipulation_interface = PairedPointDataManipulation(sitk.Euler2DTransform())\n",
    "#If you want to set your own markers, feel free to clear or comment out the next two lines\n",
    "manipulation_interface.set_fiducials(fixed_fiducials)\n",
    "manipulation_interface.set_targets(fixed_targets)"
   ]
  },
  {
   "cell_type": "markdown",
   "metadata": {},
   "source": [
    "### Statistics\n",
    "After you click \"register\", run the next cell to view statistics on the errors of the most recent registration:"
   ]
  },
  {
   "cell_type": "code",
   "execution_count": null,
   "metadata": {
    "simpleitk_error_allowed": "list index out of range"
   },
   "outputs": [],
   "source": [
    "FLE_errors = manipulation_interface.FLE_errors\n",
    "FRE_errors = manipulation_interface.FRE_errors\n",
    "TRE_errors = manipulation_interface.TRE_errors\n",
    "fixed_image = manipulation_interface.get_fixed_fiducials()+manipulation_interface.get_fixed_targets()\n",
    "\n",
    "display_errors(fixed_image, FLE_errors, FRE_errors, TRE_errors)"
   ]
  },
  {
   "cell_type": "markdown",
   "metadata": {},
   "source": [
    "### Affine Transformations\n",
    "The next demonstration will present another registration issue. Users sometimes use an affine transformation rather than a rigid transformation in an attempt to further generalize the problem. However, an affine transformation will add a degree of freedom to the registration that does not necessarily match the reality. This is a phenomena called overfitting and can affect the target registration error. Compare the registration errors of the two:"
   ]
  },
  {
   "cell_type": "code",
   "execution_count": null,
   "metadata": {
    "simpleitk_error_allowed": "list index out of range"
   },
   "outputs": [],
   "source": [
    "fixed_fiducials = manipulation_interface.get_fixed_fiducials()\n",
    "fiducials = manipulation_interface.get_original_fiducials()\n",
    "fixed_targets = manipulation_interface.get_fixed_targets()\n",
    "targets = manipulation_interface.get_original_targets()\n",
    "\n",
    "fixed_image_points = [c for p in fixed_fiducials for c in p]\n",
    "moving_image_points = [c for p in fiducials for c in p]\n",
    "\n",
    "transform = sitk.LandmarkBasedTransformInitializer(sitk.AffineTransform(2), fixed_image_points, moving_image_points)\n",
    "\n",
    "affine_FLE_errors = registration_errors(sitk.Transform(2, sitk.sitkIdentity), fixed_fiducials, fiducials)\n",
    "affine_FRE_errors = registration_errors(transform, fixed_fiducials, fiducials)\n",
    "affine_TRE_errors = registration_errors(transform, fixed_targets, targets)\n",
    "\n",
    "min_err = min(FLE_errors[2], TRE_errors[2], affine_FLE_errors[2], affine_TRE_errors[2])\n",
    "max_err = max(FLE_errors[3], TRE_errors[3], affine_FLE_errors[3], affine_TRE_errors[3])"
   ]
  },
  {
   "cell_type": "code",
   "execution_count": null,
   "metadata": {
    "simpleitk_error_allowed": "is not defined"
   },
   "outputs": [],
   "source": [
    "print(\"Euler2DTransform\")\n",
    "display_errors(fixed_image, FLE_errors, FRE_errors, TRE_errors,\n",
    "               min_err=min_err, max_err=max_err, title=\"Euler2DTransform\")\n",
    "\n",
    "print(\"\\nAffineTransform\")\n",
    "display_errors(fixed_image, affine_FLE_errors, affine_FRE_errors, affine_TRE_errors,\n",
    "               min_err=min_err, max_err=max_err, title=\"AffineTransform\")"
   ]
  },
  {
   "cell_type": "markdown",
   "metadata": {},
   "source": [
    "Note the difference in fiducial registration errors and target registration errors using AffineTransform. It is important to ensure the transformation used for registration matches the situation of the images being registered."
   ]
  }
 ],
 "metadata": {
  "kernelspec": {
   "display_name": "Python 3",
   "language": "python",
   "name": "python3"
  },
  "language_info": {
   "codemirror_mode": {
    "name": "ipython",
    "version": 3
   },
   "file_extension": ".py",
   "mimetype": "text/x-python",
   "name": "python",
   "nbconvert_exporter": "python",
   "pygments_lexer": "ipython3",
   "version": "3.6.5"
  }
 },
 "nbformat": 4,
 "nbformat_minor": 1
}
