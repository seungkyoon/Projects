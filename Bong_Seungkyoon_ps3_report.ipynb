{
  "nbformat": 4,
  "nbformat_minor": 0,
  "metadata": {
    "kernelspec": {
      "display_name": "Python 3",
      "language": "python",
      "name": "python3"
    },
    "language_info": {
      "codemirror_mode": {
        "name": "ipython",
        "version": 3
      },
      "file_extension": ".py",
      "mimetype": "text/x-python",
      "name": "python",
      "nbconvert_exporter": "python",
      "pygments_lexer": "ipython3",
      "version": "3.8.5"
    },
    "colab": {
      "name": "Bong_Seungkyoon_ps3_report.ipynb",
      "provenance": [],
      "include_colab_link": true
    },
    "accelerator": "GPU"
  },
  "cells": [
    {
      "cell_type": "markdown",
      "metadata": {
        "id": "view-in-github",
        "colab_type": "text"
      },
      "source": [
        "<a href=\"https://colab.research.google.com/github/seungkyoon/Projects/blob/master/Bong_Seungkyoon_ps3_report.ipynb\" target=\"_parent\"><img src=\"https://colab.research.google.com/assets/colab-badge.svg\" alt=\"Open In Colab\"/></a>"
      ]
    },
    {
      "cell_type": "markdown",
      "metadata": {
        "id": "JgIO3pUkJXHy"
      },
      "source": [
        "# PSET 3\n",
        "*CPSC 453: Unsupervised Learning*\n",
        "\n",
        "*Seungkyoon Bong*"
      ]
    },
    {
      "cell_type": "code",
      "metadata": {
        "colab": {
          "base_uri": "https://localhost:8080/"
        },
        "id": "eDB7LzvOovd3",
        "outputId": "61a74397-4f21-4d4a-dd30-827dfc5ff92b"
      },
      "source": [
        "from google.colab import drive, files\n",
        "drive.mount('/content/drive/')"
      ],
      "execution_count": 2,
      "outputs": [
        {
          "output_type": "stream",
          "text": [
            "Drive already mounted at /content/drive/; to attempt to forcibly remount, call drive.mount(\"/content/drive/\", force_remount=True).\n"
          ],
          "name": "stdout"
        }
      ]
    },
    {
      "cell_type": "code",
      "metadata": {
        "id": "ndgTVlYsJXHz"
      },
      "source": [
        "# ps3_functions.py (code copied below)\n",
        "# from code.ps3_functions import *\n",
        "\n",
        "# ps3_functions.py\n",
        "# CPSC 453 -- Problem Set 3\n",
        "#\n",
        "# This script contains pytorch shells for a Logistic regression model, a feed forward network, and an autoencoder.\n",
        "#\n",
        "from torch.nn.functional import softmax\n",
        "from torch import optim, nn\n",
        "import torchvision.transforms as transforms\n",
        "import torchvision.datasets as datasets\n",
        "import numpy as np\n",
        "import torch\n",
        "\n",
        "class LogisticRegression(nn.Module): # initialize a pytorch neural network module\n",
        "    def __init__(self): # initialize the model\n",
        "        super(LogisticRegression, self).__init__() # call for the parent class to initialize\n",
        "        # you can define variables here that apply to the entire model (e.g. weights, biases, layers...)\n",
        "        # this model only has two parameters: the weight, and the bias.\n",
        "        # here's how you can initialize the weight:\n",
        "        # W = nn.Parameter(torch.zeros(shape)) # this creates a model parameter out of a torch tensor of the specified shape\n",
        "        # ... torch.zeros is much like numpy.zeros, except optimized for backpropogation. We make it a model parameter and so it will be updated by gradient descent.\n",
        "        self.W = nn.Parameter(torch.zeros(784, 10))\n",
        "\n",
        "        # create a bias variable here\n",
        "        self.b = nn.Parameter(torch.zeros(10))\n",
        "\n",
        "    def forward(self, x):\n",
        "        \"\"\"\n",
        "        this is the function that will be executed when we call the logistic regression on data.\n",
        "        INPUT:\n",
        "            x, an MNIST image represented as a tensor of shape 784\n",
        "        OUTPUT:\n",
        "            softmax_probabilities, a tensor of shape 10\n",
        "        \"\"\"\n",
        "        # put the logic here.\n",
        "        softmax_probabilities = torch.matmul(x, self.W) + self.b[None, :]\n",
        "\n",
        "        return softmax_probabilities\n",
        "\n",
        "\n",
        "class FeedForwardNet(nn.Module):\n",
        "    \"\"\" Simple feed forward network with one hidden layer.\"\"\"\n",
        "    # Here, you should place an exact copy of the code from the LogisticRegression class, with two modifications:\n",
        "    # 1. Add another weight and bias vector to represent the hidden layer\n",
        "    # 2. In the forward function, add some type of nonlinearity to the output of the first layer, then pass it onto the hidden layer.\n",
        "    def __init__(self, hidden_size=128, pre_activation = nn.Identity(), post_activation = nn.Identity()): # initialize the model\n",
        "        super(FeedForwardNet, self).__init__()\n",
        "\n",
        "        bound = 1/np.sqrt(hidden_size)\n",
        "        W = torch.rand(784, hidden_size)*2*bound - bound\n",
        "        self.W = nn.Parameter(W)\n",
        "        b = torch.rand(hidden_size)*2*bound - bound\n",
        "        self.b = nn.Parameter(b)\n",
        "\n",
        "        self.pre_activation = pre_activation\n",
        "\n",
        "        bound = 1/np.sqrt(10)\n",
        "        W2 = torch.rand(hidden_size, 10)*2*bound - bound\n",
        "        self.W2 = nn.Parameter(W2)\n",
        "        b2 = torch.rand(10)*2*bound - bound\n",
        "        self.b2 = nn.Parameter(b2)\n",
        "\n",
        "        self.post_activation = post_activation\n",
        "\n",
        "    def forward(self, x):\n",
        "        \"\"\"\n",
        "        this is the function that will be executed when we call the logistic regression on data.\n",
        "        INPUT:\n",
        "            x, an MNIST image represented as a tensor of shape 784\n",
        "        OUTPUT:\n",
        "            softmax_probabilities, a tensor of shape 10\n",
        "        \"\"\"\n",
        "        # put the logic here.\n",
        "        hidden = torch.matmul(x, self.W) + self.b[None, :]\n",
        "        activated = self.pre_activation(hidden)\n",
        "\n",
        "        second_out = torch.matmul(activated, self.W2) + self.b2[None, :]\n",
        "        softmax_probabilities = self.post_activation(second_out)\n",
        "\n",
        "        return softmax_probabilities\n",
        "\n",
        "\n",
        "class Autoencoder(nn.Module):\n",
        "    def __init__(self, activation = None, sizes = [784, 1000, 500, 250, 2]):\n",
        "        super(Autoencoder, self).__init__()\n",
        "        self.lin1 = nn.Linear(sizes[0], sizes[1])\n",
        "        # define additional layers here\n",
        "        self.lin2 = nn.Linear(sizes[1], sizes[2])\n",
        "        self.lin3 = nn.Linear(sizes[2], sizes[3])\n",
        "        self.lin4 = nn.Linear(sizes[3], sizes[4])\n",
        "\n",
        "        self.delin1 = nn.Linear(sizes[4], sizes[3])\n",
        "        self.delin2 = nn.Linear(sizes[3], sizes[2])\n",
        "        self.delin3 = nn.Linear(sizes[2], sizes[1])\n",
        "        self.delin4 = nn.Linear(sizes[1], sizes[0])\n",
        "\n",
        "        self.activation = activation\n",
        "        self.tanh = nn.Tanh()\n",
        "        self.sigmoid = nn.Sigmoid()\n",
        "\n",
        "    def encode(self, x):\n",
        "        x = self.tanh(self.lin1(x))\n",
        "        x = self.tanh(self.lin2(x))\n",
        "        x = self.tanh(self.lin3(x))\n",
        "        x = self.lin4(x)\n",
        "        if self.activation:\n",
        "            x = self.activation(x)\n",
        "\n",
        "        return x\n",
        "\n",
        "    def decode(self, z):\n",
        "        z = self.tanh(self.delin1(z))\n",
        "        z = self.tanh(self.delin2(z))\n",
        "        z = self.tanh(self.delin3(z))\n",
        "        z = self.sigmoid(self.delin4(z))\n",
        "\n",
        "        return z\n",
        "\n",
        "    def forward(self, x):\n",
        "        z = self.encode(x)\n",
        "        return self.decode(z)\n",
        "\n",
        "\n",
        "# initialize the model (adapt this to each model)\n",
        "model = LogisticRegression()\n",
        "# initialize the optimizer, and set the learning rate\n",
        "SGD = torch.optim.SGD(model.parameters(), lr = 42000000000) # This is absurdly high.\n",
        "# initialize the loss function. You don't want to use this one, so change it accordingly\n",
        "loss_fn = torch.nn.CrossEntropyLoss()\n",
        "batch_size = 128\n",
        "\n",
        "use_cuda = torch.cuda.is_available()\n",
        "device = torch.device(\"cuda:0\" if use_cuda else \"cpu\")\n",
        "\n",
        "\n",
        "def train(model,loss_fn, optimizer, train_loader, test_loader):\n",
        "    \"\"\"\n",
        "    This is a standard training loop, which leaves some parts to be filled in.\n",
        "    INPUT:\n",
        "    :param model: an untrained pytorch model\n",
        "    :param loss_fn: e.g. Cross Entropy loss of Mean Squared Error.\n",
        "    :param optimizer: the model optimizer, initialized with a learning rate.\n",
        "    :param training_set: The training data, in a dataloader for easy iteration.\n",
        "    :param test_loader: The testing data, in a dataloader for easy iteration.\n",
        "    \"\"\"\n",
        "    num_epochs = 100 # obviously, this is too many. I don't know what this author was thinking.\n",
        "    for epoch in range(num_epochs):\n",
        "        # loop through each data point in the training set\n",
        "        for data, targets in train_loader:\n",
        "\n",
        "            # run the model on the data\n",
        "            targets = targets.to(device)\n",
        "            model_input = torch.reshape(data, (-1, 784)).to(device)# TODO: Turn the 28 by 28 image tensors into a 784 dimensional tensor.\n",
        "            out = model(model_input)\n",
        "\n",
        "            # Calculate the loss\n",
        "            # targets = targets[:,None] # add an extra dimension to keep CrossEntropy happy.\n",
        "            loss = loss_fn(out,targets)\n",
        "\n",
        "            # Find the gradients of our loss via backpropogation\n",
        "            loss.backward()\n",
        "\n",
        "            # Adjust accordingly with the optimizer\n",
        "            optimizer.step()\n",
        "            optimizer.zero_grad()\n",
        "\n",
        "        # Give status reports every 10 epochs\n",
        "        if (epoch + 1) % 10==0:\n",
        "            print(f\" EPOCH {epoch+1}. Progress: {(epoch+1)/num_epochs*100}%. \")\n",
        "            print(f\" Train accuracy: {evaluate(model,train_loader)}. Test accuracy: {evaluate(model,test_loader)}\") #TODO: implement the evaluate function to provide performance statistics during training.\n",
        "\n",
        "def evaluate(model, evaluation_set):\n",
        "    \"\"\"\n",
        "    Evaluates the given model on the given dataset.\n",
        "    Returns the percentage of correct classifications out of total classifications.\n",
        "    \"\"\"\n",
        "    total_correct = 0\n",
        "    total_samples = 0\n",
        "\n",
        "    with torch.no_grad(): # this disables backpropogation, which makes the model run much more quickly.\n",
        "        # TODO: Fill in the rest of the evaluation function.\n",
        "        for data, targets in evaluation_set:\n",
        "\n",
        "            targets = targets.to(device)\n",
        "            model_input = torch.reshape(data, (-1, 784)).to(device)\n",
        "            out = model(model_input)\n",
        "\n",
        "            total_samples += targets.shape[0]\n",
        "\n",
        "            predictions = torch.argmax(out, 1)\n",
        "            correct = torch.sum(predictions == targets)\n",
        "            total_correct += correct\n",
        "\n",
        "\n",
        "    accuracy = 1.0 * total_correct / total_samples\n",
        "    return accuracy\n",
        "\n",
        "# ----- Functions for Part 5 -----\n",
        "def mmd(X,Y, kernel_fn):\n",
        "    \"\"\"\n",
        "    Implementation of Maximum Mean Discrepancy.\n",
        "    :param X: An n x 1 numpy vector containing the samples from distribution 1.\n",
        "    :param Y: An n x 1 numpy vector containing the samples from distribution 2.\n",
        "    :param kernel_fn: supply the kernel function to use.\n",
        "    :return: the maximum mean discrepancy:\n",
        "    MMD(X,Y) = Expected value of k(X,X) + Expected value of k(Y,Y) - Expected value of k(X,Y)\n",
        "    where k is a kernel function\n",
        "    \"\"\"\n",
        "\n",
        "    return mmd\n",
        "\n",
        "\n",
        "def kernel(A, B):\n",
        "    \"\"\"\n",
        "    A gaussian kernel on two arrays.\n",
        "    :param A: An n x d numpy matrix containing the samples from distribution 1\n",
        "    :param B: An n x d numpy matrix containing the samples from distribution 2.\n",
        "    :return K:  An n x n numpy matrix k, in which k_{i,j} = e^{-||A_i - B_j||^2/(2*sigma^2)}\n",
        "    \"\"\"\n",
        "\n",
        "    return K\n",
        "\n"
      ],
      "execution_count": 6,
      "outputs": []
    },
    {
      "cell_type": "code",
      "metadata": {
        "id": "_3M0R2DW6V5n"
      },
      "source": [
        "# GAN.py (code copied below)\n",
        "# from code.GAN import *\n",
        "\n",
        "import torch\n",
        "import torch.nn as nn\n",
        "import torchvision.transforms as transforms\n",
        "import torch.optim as optim\n",
        "import torchvision.datasets as datasets\n",
        "import imageio\n",
        "import numpy as np\n",
        "import matplotlib\n",
        "from torchvision.utils import make_grid, save_image\n",
        "from torch.utils.data import DataLoader\n",
        "from matplotlib import pyplot as plt\n",
        "from tqdm import tqdm\n",
        "matplotlib.style.use('ggplot')\n",
        "\n",
        "class Generator(nn.Module):\n",
        "    def __init__(self, nz):\n",
        "        super(Generator, self).__init__()\n",
        "        self.nz = nz # the dimension of the random noise used to seed the Generator\n",
        "        self.main = nn.Sequential( # nn.sequential is a handy way of combining multiple layers.\n",
        "            nn.Linear(self.nz, 256),\n",
        "            nn.LeakyReLU(0.2),\n",
        "            nn.Linear(256, 512),\n",
        "            nn.LeakyReLU(0.2),\n",
        "            nn.Linear(512, 1024),\n",
        "            nn.LeakyReLU(0.2),\n",
        "            nn.Linear(1024, 784),\n",
        "            nn.Tanh(),\n",
        "        )\n",
        "    def forward(self, x):\n",
        "        return self.main(x).view(-1, 1, 28, 28)\n",
        "\n",
        "class Discriminator(nn.Module):\n",
        "    def __init__(self):\n",
        "        super(Discriminator, self).__init__()\n",
        "        self.n_input = 784\n",
        "        self.main = nn.Sequential(\n",
        "            nn.Linear(self.n_input, 1024),\n",
        "            nn.LeakyReLU(0.2),\n",
        "            nn.Dropout(0.3),\n",
        "            nn.Linear(1024, 512),\n",
        "            nn.LeakyReLU(0.2),\n",
        "            nn.Dropout(0.3),\n",
        "            nn.Linear(512, 256),\n",
        "            nn.LeakyReLU(0.2),\n",
        "            nn.Dropout(0.3),\n",
        "            nn.Linear(256, 1),\n",
        "            nn.Sigmoid(),\n",
        "        )\n",
        "    def forward(self, x):\n",
        "        x = x.view(-1, 784)\n",
        "        return self.main(x)\n",
        "\n",
        "\n",
        "def train_discriminator(optimizer, real_data, fake_data):\n",
        "    \"\"\"\n",
        "    Train the discriminator on a minibatch of data.\n",
        "    INPUTS\n",
        "        :param optimizer: the optimizer used for training\n",
        "        :param real_data: the batch of training data\n",
        "        :param fake_data: the data generated by the generator from random noise\n",
        "    The discriminator will incur two losses: one from trying to classify the real data, and another from classifying the fake data.\n",
        "    TODO: Fill in this function.\n",
        "    It should\n",
        "    1. Run the discriminator on the real_data and the fake_data\n",
        "    2. Compute and sum the respective loss terms (described in the assignment)\n",
        "    3. Backpropogate the loss (e.g. loss.backward()), and perform optimization (e.g. optimizer.step()).\n",
        "    \"\"\"\n",
        "\n",
        "    # we'll return the loss for book-keeping purposes. (E.g. if you want to make plots of the loss.)\n",
        "    return loss\n",
        "\n",
        "def train_generator(optimizer, fake_data):\n",
        "    \"\"\"\n",
        "    Performs a single training step on the generator.\n",
        "    :param optimizer: the optimizer\n",
        "    :param fake_data: forgeries, created by the generator from random noise. (Done before calling this function.)\n",
        "    :return:  the generator's loss\n",
        "    TODO: Fill in this function\n",
        "    It should\n",
        "    1. Run the discriminator on the fake_data\n",
        "    2. compute the resultant loss for the generator (as described in the assignment)\n",
        "    3. Backpropagate the loss, and perform optimization\n",
        "    \"\"\"\n",
        "    return loss\n",
        "\n",
        "# import data\n",
        "batch_size = 100\n",
        "train_data = datasets.MNIST(\n",
        "    root='../data',\n",
        "    train=True,\n",
        "    download=True,\n",
        "    transform=transforms.ToTensor()\n",
        ")\n",
        "train_loader = DataLoader(train_data, batch_size=batch_size, shuffle=True)\n",
        "\n",
        "num_epochs = 1000\n",
        "nz = # dimension of random noise\n",
        "generator = Generator(nz)\n",
        "discriminator = Discriminator(nz)\n",
        "\n",
        "#TODO: Build a training loop for the GAN\n",
        "# For each epoch, you'll\n",
        "# 1. Loop through the training data. For each batch, feed random noise into the generator to generate fake_data of the corresponding size.\n",
        "# 2. Feed the fake data and real data into the train_discriminator and train_generator functions\n",
        "# At the end of each epoch, use the below functions to save a grid of generated images.\n",
        "for epoch in range(num_epochs):\n",
        "    for data in train_loader:\n",
        "        # perform training\n",
        "\n",
        "    # reshape the image tensors into a grid\n",
        "    generated_img = make_grid(generated_img)\n",
        "    # save the generated torch tensor images\n",
        "    save_image(generated_img, f\"../outputs/gen_img{epoch}.png\")"
      ],
      "execution_count": null,
      "outputs": []
    },
    {
      "cell_type": "code",
      "metadata": {
        "id": "GdqiDo4N6XC6"
      },
      "source": [
        "# vae.py (code copied below) \n",
        "# from code.vae import *\n",
        "\n",
        "import argparse\n",
        "import torch\n",
        "import torch.utils.data\n",
        "from torch import nn, optim\n",
        "from torch.nn import functional as F\n",
        "from torchvision import datasets, transforms\n",
        "from torchvision.utils import save_image\n",
        "\n",
        "parser = argparse.ArgumentParser(description='VAE MNIST Example') # collect arguments passed to file\n",
        "parser.add_argument('--batch-size', type=int, default=128, metavar='N',\n",
        "                    help='input batch size for training (default: 128)')\n",
        "parser.add_argument('--epochs', type=int, default=10, metavar='N',\n",
        "                    help='number of epochs to train (default: 10)')\n",
        "parser.add_argument('--no-cuda', action='store_true', default=False,\n",
        "                    help='enables CUDA training')\n",
        "parser.add_argument('--seed', type=int, default=1, metavar='S',\n",
        "                    help='random seed (default: 1)')\n",
        "parser.add_argument('--log-interval', type=int, default=10, metavar='N',\n",
        "                    help='how many batches to wait before logging training status')\n",
        "args = parser.parse_args()\n",
        "args.cuda = not args.no_cuda and torch.cuda.is_available()\n",
        "\n",
        "torch.manual_seed(args.seed)\n",
        "\n",
        "device = torch.device(\"cuda\" if args.cuda else \"cpu\") # Use NVIDIA CUDA GPU if available\n",
        "\n",
        "kwargs = {'num_workers': 1, 'pin_memory': True} if args.cuda else {}\n",
        "train_loader = torch.utils.data.DataLoader(\n",
        "    datasets.MNIST('../data', train=True, download=True,\n",
        "                   transform=transforms.ToTensor()),\n",
        "    batch_size=args.batch_size, shuffle=True, **kwargs)\n",
        "test_loader = torch.utils.data.DataLoader(\n",
        "    datasets.MNIST('../data', train=False, transform=transforms.ToTensor()),\n",
        "    batch_size=args.batch_size, shuffle=True, **kwargs)\n",
        "\n",
        "\n",
        "class VAE(nn.Module):\n",
        "    def __init__(self):\n",
        "        super(VAE, self).__init__()\n",
        "\n",
        "        self.fc1 = nn.Linear(784, 400)\n",
        "        self.fc21 = nn.Linear(400, 20)\n",
        "        self.fc22 = nn.Linear(400, 20)\n",
        "        self.fc3 = nn.Linear(20, 400)\n",
        "        self.fc4 = nn.Linear(400, 784)\n",
        "\n",
        "    def encode(self, x):\n",
        "        h1 = F.relu(self.fc1(x))\n",
        "        return self.fc21(h1), self.fc22(h1)\n",
        "\n",
        "    def reparameterize(self, mu, logvar):\n",
        "        std = torch.exp(0.5*logvar)\n",
        "        eps = torch.randn_like(std)\n",
        "        return mu + eps*std\n",
        "\n",
        "    def decode(self, z):\n",
        "        h3 = F.relu(self.fc3(z))\n",
        "        return torch.sigmoid(self.fc4(h3))\n",
        "\n",
        "    def forward(self, x):\n",
        "        mu, logvar = self.encode(x.view(-1, 784))\n",
        "        z = self.reparameterize(mu, logvar)\n",
        "        return self.decode(z), mu, logvar\n",
        "\n",
        "\n",
        "model = VAE().to(device)\n",
        "optimizer = optim.Adam(model.parameters(), lr=1e-3)\n",
        "\n",
        "\n",
        "def VAE_loss_function(recon_x, x, mu, logvar):\n",
        "    # TO DO: Implement reconstruction + KL divergence losses summed over all elements and batch\n",
        "\n",
        "    # see lecture 12 slides for more information on the VAE loss function\n",
        "    # for additional information on computing KL divergence\n",
        "    # see Appendix B from VAE paper:\n",
        "    # Kingma and Welling. Auto-Encoding Variational Bayes. ICLR, 2014\n",
        "    # https://arxiv.org/abs/1312.6114\n",
        "    \n",
        "\n",
        "\n",
        "    return recon_loss + KLD\n",
        "\n",
        "\n",
        "def train(epoch):\n",
        "    model.train()\n",
        "    train_loss = 0\n",
        "    for batch_idx, (data, _) in enumerate(train_loader):\n",
        "        data = data.to(device)\n",
        "        optimizer.zero_grad()\n",
        "        recon_batch, mu, logvar = model(data)\n",
        "        loss = VAE_loss_function(recon_batch, data, mu, logvar)\n",
        "        loss.backward()\n",
        "        train_loss += loss.item()\n",
        "        optimizer.step()\n",
        "        if batch_idx % args.log_interval == 0:\n",
        "            print('Train Epoch: {} [{}/{} ({:.0f}%)]\\tLoss: {:.6f}'.format(\n",
        "                epoch, batch_idx * len(data), len(train_loader.dataset),\n",
        "                100. * batch_idx / len(train_loader),\n",
        "                loss.item() / len(data)))\n",
        "\n",
        "    print('====> Epoch: {} Average loss: {:.4f}'.format(\n",
        "          epoch, train_loss / len(train_loader.dataset)))\n",
        "\n",
        "\n",
        "def test(epoch):\n",
        "    model.eval()\n",
        "    test_loss = 0\n",
        "    with torch.no_grad():\n",
        "        for i, (data, _) in enumerate(test_loader):\n",
        "            data = data.to(device)\n",
        "            recon_batch, mu, logvar = model(data)\n",
        "            test_loss += loss_function(recon_batch, data, mu, logvar).item()\n",
        "            if i == 0:\n",
        "                n = min(data.size(0), 8)\n",
        "                comparison = torch.cat([data[:n],\n",
        "                                      recon_batch.view(args.batch_size, 1, 28, 28)[:n]])\n",
        "                save_image(comparison.cpu(),\n",
        "                         'results/reconstruction_' + str(epoch) + '.png', nrow=n)\n",
        "\n",
        "    test_loss /= len(test_loader.dataset)\n",
        "    print('====> Test set loss: {:.4f}'.format(test_loss))\n",
        "\n",
        "\n",
        "if __name__ == \"__main__\":\n",
        "    for epoch in range(1, args.epochs + 1):\n",
        "        train(epoch)\n",
        "        test(epoch)\n",
        "        with torch.no_grad():\n",
        "            sample = torch.randn(64, 20).to(device)\n",
        "            sample = model.decode(sample).cpu()\n",
        "            save_image(sample.view(64, 1, 28, 28),\n",
        "                       'results/sample_' + str(epoch) + '.png')"
      ],
      "execution_count": null,
      "outputs": []
    },
    {
      "cell_type": "markdown",
      "metadata": {
        "id": "K8zcb6W1JXH0"
      },
      "source": [
        "## 2 MNIST Classification"
      ]
    },
    {
      "cell_type": "markdown",
      "metadata": {
        "id": "hAMX5Wx3JXH0"
      },
      "source": [
        "### 2.1 Downloading MNIST"
      ]
    },
    {
      "cell_type": "code",
      "metadata": {
        "id": "NJW3fEleJXH1"
      },
      "source": [
        "import torch\n",
        "from torchvision import datasets, transforms\n",
        "\n",
        "use_cuda = torch.cuda.is_available()\n",
        "device = torch.device(\"cuda:0\" if use_cuda else \"cpu\")\n",
        "\n",
        "mnist_train = datasets.MNIST(root = 'data', train=True, download=True, transform = transforms.ToTensor())\n",
        "mnist_test = datasets.MNIST(root = 'data', train=False, download=True,transform = transforms.ToTensor())\n",
        "\n",
        "batch_size = 128\n",
        "train_loader = torch.utils.data.DataLoader(mnist_train, batch_size, shuffle = True)\n",
        "test_loader = torch.utils.data.DataLoader(mnist_test, batch_size, shuffle = True)"
      ],
      "execution_count": 4,
      "outputs": []
    },
    {
      "cell_type": "markdown",
      "metadata": {
        "id": "GFHrCqMtJXH1"
      },
      "source": [
        "### 2.2 Logistic Regression"
      ]
    },
    {
      "cell_type": "code",
      "metadata": {
        "colab": {
          "base_uri": "https://localhost:8080/"
        },
        "id": "h4VoWiKpJXH1",
        "outputId": "26f61d86-2706-47bf-d6a2-496a9a5235f7"
      },
      "source": [
        "model = LogisticRegression()\n",
        "model = model.to(device)\n",
        "SGD = torch.optim.SGD(model.parameters(), lr = 0.5)\n",
        "loss_fn = torch.nn.CrossEntropyLoss()\n",
        "\n",
        "train(model, loss_fn, SGD, train_loader, test_loader)\n",
        "torch.save(model.state_dict(), '/content/drive/MyDrive/ColabNotebooks/log_reg.pt')"
      ],
      "execution_count": 7,
      "outputs": [
        {
          "output_type": "stream",
          "text": [
            " EPOCH 10. Progress: 10.0%. \n",
            " Train accuracy: 0.926966667175293. Test accuracy: 0.9231999516487122\n",
            " EPOCH 20. Progress: 20.0%. \n",
            " Train accuracy: 0.9321666955947876. Test accuracy: 0.9259999990463257\n",
            " EPOCH 30. Progress: 30.0%. \n",
            " Train accuracy: 0.9296166896820068. Test accuracy: 0.9214999675750732\n",
            " EPOCH 40. Progress: 40.0%. \n",
            " Train accuracy: 0.9334666728973389. Test accuracy: 0.924299955368042\n",
            " EPOCH 50. Progress: 50.0%. \n",
            " Train accuracy: 0.9327666759490967. Test accuracy: 0.924299955368042\n",
            " EPOCH 60. Progress: 60.0%. \n",
            " Train accuracy: 0.9330833554267883. Test accuracy: 0.9226999878883362\n",
            " EPOCH 70. Progress: 70.0%. \n",
            " Train accuracy: 0.93586665391922. Test accuracy: 0.9235999584197998\n",
            " EPOCH 80. Progress: 80.0%. \n",
            " Train accuracy: 0.9366833567619324. Test accuracy: 0.9235000014305115\n",
            " EPOCH 90. Progress: 90.0%. \n",
            " Train accuracy: 0.9358833432197571. Test accuracy: 0.9257999658584595\n",
            " EPOCH 100. Progress: 100.0%. \n",
            " Train accuracy: 0.9327666759490967. Test accuracy: 0.9238999485969543\n"
          ],
          "name": "stdout"
        }
      ]
    },
    {
      "cell_type": "markdown",
      "metadata": {
        "id": "Y-Mjc4l_JXH2"
      },
      "source": [
        "**Question 2.2.1:** *What percentage classification accuracy did your simple network achieve?*\n",
        "\n",
        "**Answer:** \n"
      ]
    },
    {
      "cell_type": "markdown",
      "metadata": {
        "id": "Ikq0LThBJXH2"
      },
      "source": [
        "### 2.3 Feed-forward Neural Network"
      ]
    },
    {
      "cell_type": "code",
      "metadata": {
        "scrolled": false,
        "colab": {
          "base_uri": "https://localhost:8080/"
        },
        "id": "5CBVb9veJXH2",
        "outputId": "083bf4ee-1cf2-4c85-ba6e-f42cf5ae9911"
      },
      "source": [
        "# Without non-linearity\n",
        "model = FeedForwardNet()\n",
        "model = model.to(device)\n",
        "SGD = torch.optim.SGD(model.parameters(), lr = 0.01)\n",
        "loss_fn = torch.nn.CrossEntropyLoss()\n",
        "\n",
        "train(model, loss_fn, SGD, train_loader, test_loader)\n",
        "torch.save(model.state_dict(), '/content/drive/MyDrive/ColabNotebooks/ff_nonlinear.pt')"
      ],
      "execution_count": 34,
      "outputs": [
        {
          "output_type": "stream",
          "text": [
            " EPOCH 10. Progress: 10.0%. \n",
            " Train accuracy: 0.9136833548545837. Test accuracy: 0.9170999526977539\n",
            " EPOCH 20. Progress: 20.0%. \n",
            " Train accuracy: 0.9216166734695435. Test accuracy: 0.9210999608039856\n",
            " EPOCH 30. Progress: 30.0%. \n",
            " Train accuracy: 0.9241333603858948. Test accuracy: 0.9233999848365784\n",
            " EPOCH 40. Progress: 40.0%. \n",
            " Train accuracy: 0.9265000224113464. Test accuracy: 0.9232999682426453\n",
            " EPOCH 50. Progress: 50.0%. \n",
            " Train accuracy: 0.9276666641235352. Test accuracy: 0.9235999584197998\n",
            " EPOCH 60. Progress: 60.0%. \n",
            " Train accuracy: 0.9292833209037781. Test accuracy: 0.9250999689102173\n",
            " EPOCH 70. Progress: 70.0%. \n",
            " Train accuracy: 0.9298833608627319. Test accuracy: 0.9248999953269958\n",
            " EPOCH 80. Progress: 80.0%. \n",
            " Train accuracy: 0.9305166602134705. Test accuracy: 0.9259999990463257\n",
            " EPOCH 90. Progress: 90.0%. \n",
            " Train accuracy: 0.9314166903495789. Test accuracy: 0.9261999726295471\n",
            " EPOCH 100. Progress: 100.0%. \n",
            " Train accuracy: 0.931850016117096. Test accuracy: 0.9247999787330627\n"
          ],
          "name": "stdout"
        }
      ]
    },
    {
      "cell_type": "code",
      "metadata": {
        "colab": {
          "base_uri": "https://localhost:8080/"
        },
        "id": "AUR6omQ_iBjY",
        "outputId": "6479c635-30a1-4682-ddca-b0287050ed51"
      },
      "source": [
        "# With sigmoid non-linearity before and after\n",
        "# Likely cripples the model to have a nonlinearity in output (because cross entropy loss already takes softmax)\n",
        "model = FeedForwardNet(pre_activation = nn.Sigmoid(), post_activation = nn.Sigmoid())\n",
        "model = model.to(device)\n",
        "SGD = torch.optim.SGD(model.parameters(), lr = 0.01)\n",
        "loss_fn = torch.nn.CrossEntropyLoss()\n",
        "\n",
        "train(model, loss_fn, SGD, train_loader, test_loader)\n",
        "torch.save(model.state_dict(), '/content/drive/MyDrive/ColabNotebooks/ff_sigmoid.pt')"
      ],
      "execution_count": 6,
      "outputs": [
        {
          "output_type": "stream",
          "text": [
            " EPOCH 10. Progress: 10.0%. \n",
            " Train accuracy: 0.8048833608627319. Test accuracy: 0.8134999871253967\n",
            " EPOCH 20. Progress: 20.0%. \n",
            " Train accuracy: 0.836650013923645. Test accuracy: 0.8478999733924866\n",
            " EPOCH 30. Progress: 30.0%. \n",
            " Train accuracy: 0.8513666987419128. Test accuracy: 0.8619999885559082\n",
            " EPOCH 40. Progress: 40.0%. \n",
            " Train accuracy: 0.8617333173751831. Test accuracy: 0.8700999617576599\n",
            " EPOCH 50. Progress: 50.0%. \n",
            " Train accuracy: 0.8689166903495789. Test accuracy: 0.8788999915122986\n",
            " EPOCH 60. Progress: 60.0%. \n",
            " Train accuracy: 0.8741333484649658. Test accuracy: 0.8829999566078186\n",
            " EPOCH 70. Progress: 70.0%. \n",
            " Train accuracy: 0.8786666989326477. Test accuracy: 0.8873999714851379\n",
            " EPOCH 80. Progress: 80.0%. \n",
            " Train accuracy: 0.8823666572570801. Test accuracy: 0.8898999691009521\n",
            " EPOCH 90. Progress: 90.0%. \n",
            " Train accuracy: 0.8849499821662903. Test accuracy: 0.8930999636650085\n",
            " EPOCH 100. Progress: 100.0%. \n",
            " Train accuracy: 0.8878499865531921. Test accuracy: 0.8948999643325806\n"
          ],
          "name": "stdout"
        }
      ]
    },
    {
      "cell_type": "code",
      "metadata": {
        "colab": {
          "base_uri": "https://localhost:8080/"
        },
        "id": "zMqaiglvBHVF",
        "outputId": "f766c4c3-76c3-4e0f-ffc3-903e0464990f"
      },
      "source": [
        "# With sigmoid non-linearity before\n",
        "model = FeedForwardNet(pre_activation = nn.Sigmoid())\n",
        "model = model.to(device)\n",
        "SGD = torch.optim.SGD(model.parameters(), lr = 0.01)\n",
        "loss_fn = torch.nn.CrossEntropyLoss()\n",
        "\n",
        "train(model, loss_fn, SGD, train_loader, test_loader)\n",
        "torch.save(model.state_dict(), '/content/drive/MyDrive/ColabNotebooks/ff_sigmoid_before.pt')"
      ],
      "execution_count": 7,
      "outputs": [
        {
          "output_type": "stream",
          "text": [
            " EPOCH 10. Progress: 10.0%. \n",
            " Train accuracy: 0.8827500343322754. Test accuracy: 0.8914999961853027\n",
            " EPOCH 20. Progress: 20.0%. \n",
            " Train accuracy: 0.8986333608627319. Test accuracy: 0.9050999879837036\n",
            " EPOCH 30. Progress: 30.0%. \n",
            " Train accuracy: 0.9065499901771545. Test accuracy: 0.9114999771118164\n",
            " EPOCH 40. Progress: 40.0%. \n",
            " Train accuracy: 0.9120833277702332. Test accuracy: 0.9174000024795532\n",
            " EPOCH 50. Progress: 50.0%. \n",
            " Train accuracy: 0.9163500070571899. Test accuracy: 0.9199000000953674\n",
            " EPOCH 60. Progress: 60.0%. \n",
            " Train accuracy: 0.9205166697502136. Test accuracy: 0.9238999485969543\n",
            " EPOCH 70. Progress: 70.0%. \n",
            " Train accuracy: 0.9232500195503235. Test accuracy: 0.9269999861717224\n",
            " EPOCH 80. Progress: 80.0%. \n",
            " Train accuracy: 0.9263499975204468. Test accuracy: 0.9287999868392944\n",
            " EPOCH 90. Progress: 90.0%. \n",
            " Train accuracy: 0.9296333193778992. Test accuracy: 0.930899977684021\n",
            " EPOCH 100. Progress: 100.0%. \n",
            " Train accuracy: 0.9322500228881836. Test accuracy: 0.9333999752998352\n"
          ],
          "name": "stdout"
        }
      ]
    },
    {
      "cell_type": "code",
      "metadata": {
        "colab": {
          "base_uri": "https://localhost:8080/"
        },
        "id": "Sq4uIgRVgImI",
        "outputId": "834a6e72-097c-49ba-d964-121a1fce7f3a"
      },
      "source": [
        "# With ReLU non-linearity before\n",
        "model = FeedForwardNet(pre_activation = nn.ReLU())\n",
        "model = model.to(device)\n",
        "SGD = torch.optim.SGD(model.parameters(), lr = 0.01)\n",
        "loss_fn = torch.nn.CrossEntropyLoss()\n",
        "\n",
        "train(model, loss_fn, SGD, train_loader, test_loader)\n",
        "torch.save(model.state_dict(), '/content/drive/MyDrive/ColabNotebooks/ff_relu.pt')"
      ],
      "execution_count": 9,
      "outputs": [
        {
          "output_type": "stream",
          "text": [
            " EPOCH 10. Progress: 10.0%. \n",
            " Train accuracy: 0.9298999905586243. Test accuracy: 0.9315999746322632\n",
            " EPOCH 20. Progress: 20.0%. \n",
            " Train accuracy: 0.9463500380516052. Test accuracy: 0.9459999799728394\n",
            " EPOCH 30. Progress: 30.0%. \n",
            " Train accuracy: 0.9550333619117737. Test accuracy: 0.9530999660491943\n",
            " EPOCH 40. Progress: 40.0%. \n",
            " Train accuracy: 0.9619166851043701. Test accuracy: 0.9581999778747559\n",
            " EPOCH 50. Progress: 50.0%. \n",
            " Train accuracy: 0.9670166969299316. Test accuracy: 0.9614999890327454\n",
            " EPOCH 60. Progress: 60.0%. \n",
            " Train accuracy: 0.9704333543777466. Test accuracy: 0.964199960231781\n",
            " EPOCH 70. Progress: 70.0%. \n",
            " Train accuracy: 0.9734333157539368. Test accuracy: 0.9667999744415283\n",
            " EPOCH 80. Progress: 80.0%. \n",
            " Train accuracy: 0.9755499958992004. Test accuracy: 0.9685999751091003\n",
            " EPOCH 90. Progress: 90.0%. \n",
            " Train accuracy: 0.9776333570480347. Test accuracy: 0.9695999622344971\n",
            " EPOCH 100. Progress: 100.0%. \n",
            " Train accuracy: 0.9796333312988281. Test accuracy: 0.9714999794960022\n"
          ],
          "name": "stdout"
        }
      ]
    },
    {
      "cell_type": "code",
      "metadata": {
        "colab": {
          "base_uri": "https://localhost:8080/"
        },
        "id": "tQPlKuV9gonm",
        "outputId": "1e0bb45c-bf11-4db5-9639-8053d825f34c"
      },
      "source": [
        "# With Softplus non-linearity before\n",
        "model = FeedForwardNet(pre_activation = nn.Softplus())\n",
        "model = model.to(device)\n",
        "SGD = torch.optim.SGD(model.parameters(), lr = 0.01)\n",
        "loss_fn = torch.nn.CrossEntropyLoss()\n",
        "\n",
        "train(model, loss_fn, SGD, train_loader, test_loader)\n",
        "torch.save(model.state_dict(), '/content/drive/MyDrive/ColabNotebooks/ff_softplus.pt')"
      ],
      "execution_count": 10,
      "outputs": [
        {
          "output_type": "stream",
          "text": [
            " EPOCH 10. Progress: 10.0%. \n",
            " Train accuracy: 0.9103500247001648. Test accuracy: 0.9124999642372131\n",
            " EPOCH 20. Progress: 20.0%. \n",
            " Train accuracy: 0.9207500219345093. Test accuracy: 0.9210000038146973\n",
            " EPOCH 30. Progress: 30.0%. \n",
            " Train accuracy: 0.9291333556175232. Test accuracy: 0.9284999966621399\n",
            " EPOCH 40. Progress: 40.0%. \n",
            " Train accuracy: 0.9354333281517029. Test accuracy: 0.9341999888420105\n",
            " EPOCH 50. Progress: 50.0%. \n",
            " Train accuracy: 0.9413166642189026. Test accuracy: 0.9391999840736389\n",
            " EPOCH 60. Progress: 60.0%. \n",
            " Train accuracy: 0.9469833374023438. Test accuracy: 0.9430999755859375\n",
            " EPOCH 70. Progress: 70.0%. \n",
            " Train accuracy: 0.9509666562080383. Test accuracy: 0.9475999474525452\n",
            " EPOCH 80. Progress: 80.0%. \n",
            " Train accuracy: 0.9554499983787537. Test accuracy: 0.9512999653816223\n",
            " EPOCH 90. Progress: 90.0%. \n",
            " Train accuracy: 0.958466649055481. Test accuracy: 0.953499972820282\n",
            " EPOCH 100. Progress: 100.0%. \n",
            " Train accuracy: 0.9616000056266785. Test accuracy: 0.9567999839782715\n"
          ],
          "name": "stdout"
        }
      ]
    },
    {
      "cell_type": "code",
      "metadata": {
        "colab": {
          "base_uri": "https://localhost:8080/"
        },
        "id": "csFpOQV1gqpz",
        "outputId": "313d452e-9e28-4495-e7f5-80b721270e18"
      },
      "source": [
        "# Best activation function (ReLU) non-linearity with smaller hidden size\n",
        "model = FeedForwardNet(hidden_size = 30, pre_activation = nn.ReLU())\n",
        "model = model.to(device)\n",
        "SGD = torch.optim.SGD(model.parameters(), lr = 0.01)\n",
        "loss_fn = torch.nn.CrossEntropyLoss()\n",
        "\n",
        "train(model, loss_fn, SGD, train_loader, test_loader)\n",
        "torch.save(model.state_dict(), '/content/drive/MyDrive/ColabNotebooks/ff_narrow.pt')"
      ],
      "execution_count": 11,
      "outputs": [
        {
          "output_type": "stream",
          "text": [
            " EPOCH 10. Progress: 10.0%. \n",
            " Train accuracy: 0.9064666628837585. Test accuracy: 0.906499981880188\n",
            " EPOCH 20. Progress: 20.0%. \n",
            " Train accuracy: 0.921999990940094. Test accuracy: 0.9225999712944031\n",
            " EPOCH 30. Progress: 30.0%. \n",
            " Train accuracy: 0.931950032711029. Test accuracy: 0.9307000041007996\n",
            " EPOCH 40. Progress: 40.0%. \n",
            " Train accuracy: 0.9391999840736389. Test accuracy: 0.9375999569892883\n",
            " EPOCH 50. Progress: 50.0%. \n",
            " Train accuracy: 0.9449833631515503. Test accuracy: 0.9434999823570251\n",
            " EPOCH 60. Progress: 60.0%. \n",
            " Train accuracy: 0.948983371257782. Test accuracy: 0.9476999640464783\n",
            " EPOCH 70. Progress: 70.0%. \n",
            " Train accuracy: 0.9531500339508057. Test accuracy: 0.9517999887466431\n",
            " EPOCH 80. Progress: 80.0%. \n",
            " Train accuracy: 0.9565500020980835. Test accuracy: 0.9551999568939209\n",
            " EPOCH 90. Progress: 90.0%. \n",
            " Train accuracy: 0.9593833684921265. Test accuracy: 0.9564999938011169\n",
            " EPOCH 100. Progress: 100.0%. \n",
            " Train accuracy: 0.9616333246231079. Test accuracy: 0.9592999815940857\n"
          ],
          "name": "stdout"
        }
      ]
    },
    {
      "cell_type": "markdown",
      "metadata": {
        "id": "Y9emS_CdJXH2"
      },
      "source": [
        "**Question 2.3.1:** *What percentage classification accuracy does this more complex network achieve?*\n",
        "\n",
        "**Answer:** \n",
        "\n",
        "**Question 2.3.2:** *Create a plot of the training and test error vs the number of iterations. How many iterations\n",
        "are sufficient to reach good performance?*\n",
        "\n",
        "**Answer:** \n",
        "\n",
        "**Question 2.3.3:** *Print the confusion matrix showing which digits were misclassified, and what they were misclassified as. What numbers are frequently confused with one another by your model?*\n",
        "\n",
        "**Answer:** \n",
        "\n",
        "**Question 2.3.4:** *Experiment with the learning rate, optimizer and activation function of your network. Report the best accuracy and briefly describe the training scheme that reached this accuracy.*\n",
        "\n",
        "**Answer:** \n"
      ]
    },
    {
      "cell_type": "markdown",
      "metadata": {
        "id": "VI4eeg-mJXH2"
      },
      "source": [
        "## 3 Autoencoder"
      ]
    },
    {
      "cell_type": "markdown",
      "metadata": {
        "id": "Ym9UERaAJXH2"
      },
      "source": [
        "### 3.1 MNIST"
      ]
    },
    {
      "cell_type": "code",
      "metadata": {
        "id": "6YSz67N4JXH2"
      },
      "source": [
        "def train(model, loss_fn, optimizer, train_loader, test_loader):\n",
        "    \"\"\"\n",
        "    This is a standard training loop, which leaves some parts to be filled in.\n",
        "    INPUT:\n",
        "    :param model: an untrained pytorch model\n",
        "    :param loss_fn: e.g. Cross Entropy loss of Mean Squared Error.\n",
        "    :param optimizer: the model optimizer, initialized with a learning rate.\n",
        "    :param training_set: The training data, in a dataloader for easy iteration.\n",
        "    :param test_loader: The testing data, in a dataloader for easy iteration.\n",
        "    \"\"\"\n",
        "    num_epochs = 100 # obviously, this is too many. I don't know what this author was thinking.\n",
        "    for epoch in range(num_epochs):\n",
        "        # loop through each data point in the training set\n",
        "        for data, targets in train_loader:\n",
        "\n",
        "            # run the model on the data\n",
        "            model_input = torch.reshape(data, (-1, 784)).to(device)# TODO: Turn the 28 by 28 image tensors into a 784 dimensional tensor.\n",
        "            out = model(model_input)\n",
        "\n",
        "            # Calculate the loss\n",
        "            loss = loss_fn(out, model_input)\n",
        "\n",
        "            # Find the gradients of our loss via backpropogation\n",
        "            loss.backward()\n",
        "\n",
        "            # Adjust accordingly with the optimizer\n",
        "            optimizer.step()\n",
        "            optimizer.zero_grad()\n",
        "\n",
        "        # Give status reports every 5 epochs\n",
        "        if (epoch + 1) % 5==0:\n",
        "            print(f\" EPOCH {epoch+1}. Progress: {(epoch+1)/num_epochs*100}%. \")\n",
        "            print(f\" Train loss: {evaluate(model,train_loader)}. Test loss: {evaluate(model,test_loader)}\")\n",
        "\n",
        "def evaluate(model, evaluation_set):\n",
        "    \"\"\"\n",
        "    Evaluates the given model on the given dataset.\n",
        "    Returns the MSE loss of the output and original input\n",
        "    \"\"\"\n",
        "    total_loss = 0\n",
        "    total_samples = 0\n",
        "    loss_fn = torch.nn.MSELoss()\n",
        "\n",
        "    with torch.no_grad(): # this disables backpropogation, which makes the model run much more quickly.\n",
        "        # TODO: Fill in the rest of the evaluation function.\n",
        "        for data, targets in evaluation_set:\n",
        "\n",
        "            model_input = torch.reshape(data, (-1, 784)).to(device)\n",
        "            out = model(model_input)\n",
        "\n",
        "            total_samples += targets.shape[0]\n",
        "            total_loss += loss_fn(out, model_input)*targets.shape[0]\n",
        "\n",
        "    mean_loss = 1.0 * total_loss / total_samples\n",
        "    return mean_loss"
      ],
      "execution_count": 9,
      "outputs": []
    },
    {
      "cell_type": "code",
      "metadata": {
        "scrolled": true,
        "colab": {
          "base_uri": "https://localhost:8080/"
        },
        "id": "LuB_fuMbJXH2",
        "outputId": "eea9aa8f-f1af-4cd7-db38-0c88b456e1b3"
      },
      "source": [
        "model = Autoencoder(activation = nn.Tanh())\n",
        "model = model.to(device)\n",
        "Adam = torch.optim.Adam(model.parameters(), lr = 1e-3)\n",
        "loss_fn = torch.nn.MSELoss()\n",
        "\n",
        "train(model, loss_fn, Adam, train_loader, test_loader)\n",
        "torch.save(model.state_dict(), '/content/drive/MyDrive/ColabNotebooks/ae_tanh.pt')"
      ],
      "execution_count": 13,
      "outputs": [
        {
          "output_type": "stream",
          "text": [
            " EPOCH 5. Progress: 5.0%. \n",
            " Train loss: 0.03971928358078003. Test loss: 0.039753977209329605\n",
            " EPOCH 10. Progress: 10.0%. \n",
            " Train loss: 0.03825227543711662. Test loss: 0.03825204819440842\n",
            " EPOCH 15. Progress: 15.0%. \n",
            " Train loss: 0.03697613999247551. Test loss: 0.03711700811982155\n",
            " EPOCH 20. Progress: 20.0%. \n",
            " Train loss: 0.03632295876741409. Test loss: 0.03646008297801018\n",
            " EPOCH 25. Progress: 25.0%. \n",
            " Train loss: 0.035278987139463425. Test loss: 0.03563898056745529\n",
            " EPOCH 30. Progress: 30.0%. \n",
            " Train loss: 0.03516751900315285. Test loss: 0.03558137267827988\n",
            " EPOCH 35. Progress: 35.0%. \n",
            " Train loss: 0.03494458273053169. Test loss: 0.03547857701778412\n",
            " EPOCH 40. Progress: 40.0%. \n",
            " Train loss: 0.03503577411174774. Test loss: 0.03564044088125229\n",
            " EPOCH 45. Progress: 45.0%. \n",
            " Train loss: 0.03483179211616516. Test loss: 0.03520921617746353\n",
            " EPOCH 50. Progress: 50.0%. \n",
            " Train loss: 0.03463738411664963. Test loss: 0.03501656651496887\n",
            " EPOCH 55. Progress: 55.00000000000001%. \n",
            " Train loss: 0.03478766605257988. Test loss: 0.03538490831851959\n",
            " EPOCH 60. Progress: 60.0%. \n",
            " Train loss: 0.03420937806367874. Test loss: 0.03499797731637955\n",
            " EPOCH 65. Progress: 65.0%. \n",
            " Train loss: 0.034150008112192154. Test loss: 0.034744441509246826\n",
            " EPOCH 70. Progress: 70.0%. \n",
            " Train loss: 0.03424540534615517. Test loss: 0.03488706424832344\n",
            " EPOCH 75. Progress: 75.0%. \n",
            " Train loss: 0.03602468967437744. Test loss: 0.03639380261301994\n",
            " EPOCH 80. Progress: 80.0%. \n",
            " Train loss: 0.034067608416080475. Test loss: 0.03474658727645874\n",
            " EPOCH 85. Progress: 85.0%. \n",
            " Train loss: 0.034056104719638824. Test loss: 0.0345388688147068\n",
            " EPOCH 90. Progress: 90.0%. \n",
            " Train loss: 0.034534696489572525. Test loss: 0.03511716425418854\n",
            " EPOCH 95. Progress: 95.0%. \n",
            " Train loss: 0.03444932401180267. Test loss: 0.034920163452625275\n",
            " EPOCH 100. Progress: 100.0%. \n",
            " Train loss: 0.03466382250189781. Test loss: 0.035288818180561066\n"
          ],
          "name": "stdout"
        }
      ]
    },
    {
      "cell_type": "code",
      "metadata": {
        "id": "nHYZ701GSZjl"
      },
      "source": [
        "import torchvision.utils\n",
        "model = Autoencoder(activation = nn.Tanh())\n",
        "model.load_state_dict(torch.load('/content/drive/MyDrive/ColabNotebooks/ae_tanh.pt'))\n",
        "model.eval()\n",
        "\n",
        "for data, targets in train_loader:\n",
        "  model_input = torch.reshape(data, (-1, 784))\n",
        "  out = model(model_input)\n",
        "  out = out.reshape(-1, 28, 28)\n",
        "  torchvision.utils.save_image(out[0, :, :], '/content/drive/MyDrive/ColabNotebooks/test_tanh.jpg')\n",
        "  break"
      ],
      "execution_count": 14,
      "outputs": []
    },
    {
      "cell_type": "code",
      "metadata": {
        "colab": {
          "base_uri": "https://localhost:8080/"
        },
        "id": "kzE3JefPk6Pq",
        "outputId": "c8becdcb-6b04-4f96-e623-b93f2a185042"
      },
      "source": [
        "model = Autoencoder()\n",
        "model = model.to(device)\n",
        "Adam = torch.optim.Adam(model.parameters(), lr = 1e-3)\n",
        "loss_fn = torch.nn.MSELoss()\n",
        "\n",
        "train(model, loss_fn, Adam, train_loader, test_loader)\n",
        "torch.save(model.state_dict(), '/content/drive/MyDrive/ColabNotebooks/ae_identity.pt')"
      ],
      "execution_count": 11,
      "outputs": [
        {
          "output_type": "stream",
          "text": [
            " EPOCH 5. Progress: 5.0%. \n",
            " Train loss: 0.03961634635925293. Test loss: 0.0399719662964344\n",
            " EPOCH 10. Progress: 10.0%. \n",
            " Train loss: 0.036376673728227615. Test loss: 0.037006065249443054\n",
            " EPOCH 15. Progress: 15.0%. \n",
            " Train loss: 0.035099174827337265. Test loss: 0.035776104778051376\n",
            " EPOCH 20. Progress: 20.0%. \n",
            " Train loss: 0.03458607196807861. Test loss: 0.03539487347006798\n",
            " EPOCH 25. Progress: 25.0%. \n",
            " Train loss: 0.034379735589027405. Test loss: 0.035191748291254044\n",
            " EPOCH 30. Progress: 30.0%. \n",
            " Train loss: 0.033789992332458496. Test loss: 0.034768685698509216\n",
            " EPOCH 35. Progress: 35.0%. \n",
            " Train loss: 0.033441927284002304. Test loss: 0.03448091819882393\n",
            " EPOCH 40. Progress: 40.0%. \n",
            " Train loss: 0.032894037663936615. Test loss: 0.03393232822418213\n",
            " EPOCH 45. Progress: 45.0%. \n",
            " Train loss: 0.03251643851399422. Test loss: 0.03377606347203255\n",
            " EPOCH 50. Progress: 50.0%. \n",
            " Train loss: 0.032349176704883575. Test loss: 0.03374491631984711\n",
            " EPOCH 55. Progress: 55.00000000000001%. \n",
            " Train loss: 0.032471928745508194. Test loss: 0.034010425209999084\n",
            " EPOCH 60. Progress: 60.0%. \n",
            " Train loss: 0.03263165429234505. Test loss: 0.0340312160551548\n",
            " EPOCH 65. Progress: 65.0%. \n",
            " Train loss: 0.03151768445968628. Test loss: 0.03317703306674957\n",
            " EPOCH 70. Progress: 70.0%. \n",
            " Train loss: 0.03148448467254639. Test loss: 0.033336490392684937\n",
            " EPOCH 75. Progress: 75.0%. \n",
            " Train loss: 0.03132765367627144. Test loss: 0.03322917968034744\n",
            " EPOCH 80. Progress: 80.0%. \n",
            " Train loss: 0.0313137024641037. Test loss: 0.033321063965559006\n",
            " EPOCH 85. Progress: 85.0%. \n",
            " Train loss: 0.031511154025793076. Test loss: 0.03342974931001663\n",
            " EPOCH 90. Progress: 90.0%. \n",
            " Train loss: 0.03111065737903118. Test loss: 0.03308037295937538\n",
            " EPOCH 95. Progress: 95.0%. \n",
            " Train loss: 0.03133058175444603. Test loss: 0.033399149775505066\n",
            " EPOCH 100. Progress: 100.0%. \n",
            " Train loss: 0.03121134079992771. Test loss: 0.03322124108672142\n"
          ],
          "name": "stdout"
        }
      ]
    },
    {
      "cell_type": "code",
      "metadata": {
        "id": "QoAtCZ0tUEGn"
      },
      "source": [
        "import torchvision.utils\n",
        "model = Autoencoder(activation = nn.Identity())\n",
        "model.load_state_dict(torch.load('/content/drive/MyDrive/ColabNotebooks/ae_identity.pt'))\n",
        "model.eval()\n",
        "\n",
        "for data, targets in train_loader:\n",
        "  model_input = torch.reshape(data, (-1, 784))\n",
        "  out = model(model_input)\n",
        "  out = out.reshape(-1, 28, 28)\n",
        "  torchvision.utils.save_image(out[0, :, :], '/content/drive/MyDrive/ColabNotebooks/test_identity.jpg')\n",
        "  break"
      ],
      "execution_count": 12,
      "outputs": []
    },
    {
      "cell_type": "markdown",
      "metadata": {
        "id": "t-mPb_B4JXH2"
      },
      "source": [
        "**Question 3.1.1:** *Do the colors easily separate, or are they all clumped together? Which numbers are frequently embedded close together, and what does this mean?*\n",
        "\n",
        "**Answer:** \n",
        "\n",
        "**Question 3.1.2:** *How realistic were the images you generated by interpolating between points in the latent space? Can you think of a better way to generate images with an autoencoder?*\n",
        "\n",
        "**Answer:** \n"
      ]
    },
    {
      "cell_type": "markdown",
      "metadata": {
        "id": "KUdh-uuWJXH2"
      },
      "source": [
        "### 3.2 Biological Data: Retinal Bipolar Dataset"
      ]
    },
    {
      "cell_type": "code",
      "metadata": {
        "id": "JGx_-vV8JXH2"
      },
      "source": [
        ""
      ],
      "execution_count": null,
      "outputs": []
    },
    {
      "cell_type": "markdown",
      "metadata": {
        "id": "Q-l38Ic7JXH2"
      },
      "source": [
        "**Question 3.2.1:** *How many clusters are visible in the embedding? Do they correspond to the cluster labels?*\n",
        "\n",
        "**Answer:** \n"
      ]
    },
    {
      "cell_type": "markdown",
      "metadata": {
        "id": "ew_AkDDLJXH2"
      },
      "source": [
        "## 4 Generative Models"
      ]
    },
    {
      "cell_type": "markdown",
      "metadata": {
        "id": "ab24iP5aJXH2"
      },
      "source": [
        "### 4.1 The Variational Autoencoder"
      ]
    },
    {
      "cell_type": "code",
      "metadata": {
        "id": "fFD2YOIRJXH2"
      },
      "source": [
        ""
      ],
      "execution_count": null,
      "outputs": []
    },
    {
      "cell_type": "markdown",
      "metadata": {
        "id": "Gs43ymdvJXH2"
      },
      "source": [
        "**Question 4.1.1:** *How does the VAE’s latent space compare to the latent space of your previous autoencoder? Do the generated images have more clarity? Is this most noticeable between or within classes?*\n",
        "\n",
        "**Answer:** \n",
        "\n",
        "**Question 4.1.2:** *In what situations would a VAE be more useful than a vanilla autoencoder, and when would you prefer a vanilla autoencoder to a VAE?*\n",
        "\n",
        "**Answer:** \n",
        "\n",
        "**Question 4.1.3:** *The distance between embeddings in your first autoencoder provided some measure of the similarity between digits. To what extent is this preserved, or improved, by the VAE?*\n",
        "\n",
        "**Answer:** \n"
      ]
    },
    {
      "cell_type": "markdown",
      "metadata": {
        "id": "C0JKGJ4_JXH2"
      },
      "source": [
        "### 4.2 GANs"
      ]
    },
    {
      "cell_type": "code",
      "metadata": {
        "id": "nBPGl_-kJXH2"
      },
      "source": [
        ""
      ],
      "execution_count": null,
      "outputs": []
    },
    {
      "cell_type": "markdown",
      "metadata": {
        "id": "_PFAqBdgJXH2"
      },
      "source": [
        "**Question 4.2.1:** *Which generates more realistic images: your GAN, or your VAE? Why do you think this\n",
        "is?*\n",
        "\n",
        "**Answer:** \n",
        "\n",
        "**Question 4.2.2:** *Does your GAN appear to generate all digits in equal number, or has it specialized in a smaller number of digits? If so, why might this be?*\n",
        "\n",
        "**Answer:** \n"
      ]
    },
    {
      "cell_type": "markdown",
      "metadata": {
        "id": "cNihBrECJXH2"
      },
      "source": [
        "## 5 Information Theory"
      ]
    },
    {
      "cell_type": "markdown",
      "metadata": {
        "id": "a-m6o0SPJXH2"
      },
      "source": [
        "### 5.1 Simple Distribution"
      ]
    },
    {
      "cell_type": "code",
      "metadata": {
        "id": "gnTVpUpPJXH2"
      },
      "source": [
        ""
      ],
      "execution_count": null,
      "outputs": []
    },
    {
      "cell_type": "markdown",
      "metadata": {
        "id": "w3dbVTSzJXH2"
      },
      "source": [
        "**Question 5.1.1:** *Based on the above measures alone, which divergence seems most accurate?*\n",
        "\n",
        "**Answer:** \n"
      ]
    },
    {
      "cell_type": "markdown",
      "metadata": {
        "id": "FM75Tu7WJXH2"
      },
      "source": [
        "### 5.2 MNIST Sample Distributions"
      ]
    },
    {
      "cell_type": "code",
      "metadata": {
        "id": "34K8Ne2NJXH2"
      },
      "source": [
        ""
      ],
      "execution_count": null,
      "outputs": []
    },
    {
      "cell_type": "markdown",
      "metadata": {
        "id": "tv4AUBcJJXH2"
      },
      "source": [
        "### 5.3 The GAN Distribution"
      ]
    },
    {
      "cell_type": "code",
      "metadata": {
        "id": "-HOJiAWLJXH2"
      },
      "source": [
        ""
      ],
      "execution_count": null,
      "outputs": []
    },
    {
      "cell_type": "markdown",
      "metadata": {
        "id": "WsADcvF1JXH2"
      },
      "source": [
        "**Question 5.3.1:** *Which divergence or distance showed the greatest discrepancy between the comparison between real MNIST data and the comparison with the GAN?*\n",
        "\n",
        "**Answer:** \n",
        "\n",
        "**Question 5.3.2:** *Which of these information measures would you recommend for judging a GAN’s output? Why?*\n",
        "\n",
        "**Answer:** \n",
        "\n",
        "**Question 5.3.3:** *How do the runtimes of these measures compare?*\n",
        "\n",
        "**Answer:** \n"
      ]
    }
  ]
}